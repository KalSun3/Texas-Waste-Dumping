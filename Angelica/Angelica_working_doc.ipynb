{
 "cells": [
  {
   "cell_type": "code",
   "execution_count": 1,
   "id": "902d9778-7597-48eb-8683-70a722dcea68",
   "metadata": {},
   "outputs": [],
   "source": [
    "import json"
   ]
  },
  {
   "cell_type": "code",
   "execution_count": 2,
   "id": "0941bb6c-5fa7-4a37-8d12-bf6a644a9201",
   "metadata": {},
   "outputs": [
    {
     "name": "stdout",
     "output_type": "stream",
     "text": [
      "/Users/angelicaguerrero/Desktop/Bootcamp/Project 3 REPO/Texas-Waste-Dumping/Angelica\n"
     ]
    }
   ],
   "source": [
    "import os\n",
    "print(os.getcwd())"
   ]
  },
  {
   "cell_type": "code",
   "execution_count": 3,
   "id": "b1d48246-eee0-438c-a0d3-fe01edbd7a3c",
   "metadata": {},
   "outputs": [
    {
     "name": "stdout",
     "output_type": "stream",
     "text": [
      "['data_12_to_14.json', '.DS_Store', 'Resources', 'CleanedFiles', 'Angelica_working_doc.ipynb', 'data_15_to_17.json', 'data_9_to_11.json', 'data_21_to_23.json', 'data_18_to_20.json', '.ipynb_checkpoints']\n"
     ]
    }
   ],
   "source": [
    "import os\n",
    "print(os.listdir())"
   ]
  },
  {
   "cell_type": "code",
   "execution_count": 4,
   "id": "29ebabe8-d3c1-46cd-a7f5-259aca8a739b",
   "metadata": {},
   "outputs": [],
   "source": [
    "# List of file paths\n",
    "file_paths = [\"data_9_to_11.json\", \"data_12_to_14.json\", \"data_15_to_17.json\", \"data_18_to_20.json\", \"data_21_to_23.json\"]\n"
   ]
  },
  {
   "cell_type": "code",
   "execution_count": null,
   "id": "dedaae82-957e-47e0-b3d6-6cef1beec75a",
   "metadata": {},
   "outputs": [],
   "source": [
    "\n",
    "\n",
    "def load_json_files(file_paths):\n",
    "    json_data = []\n",
    "    for file_path in file_paths:\n",
    "        with open(file_path, 'r') as f:\n",
    "            data = json.load(f)\n",
    "            json_data.append(data)\n",
    "    return json_data\n",
    "\n",
    "# Replace with your actual file paths\n",
    "file_paths = [\"data_9_to_11.json\", \"data_12_to_14.json\", \"data_15_to_17.json\", \"data_18_to_20.json\", \"data_21_to_23.json\"]\n",
    "\n",
    "json_objects = load_json_files(file_paths)\n",
    "\n",
    "# Print the loaded JSON data\n",
    "for data in json_objects:\n",
    "    print(data)"
   ]
  },
  {
   "cell_type": "code",
   "execution_count": null,
   "id": "f76f1044-95ce-4d3f-a7ca-0f27c6defece",
   "metadata": {},
   "outputs": [],
   "source": [
    "# Import necessary libraries\n",
    "import pandas as pd\n",
    "import seaborn as sns\n",
    "import matplotlib.pyplot as plt\n",
    "\n",
    "# Function to load JSON files (replace with your implementation)\n",
    "def load_json_file(file_path):\n",
    "    # Load JSON data and return a pandas dataframe\n",
    "    # ... (your implementation here)\n",
    "    pass\n",
    "\n",
    "# List of file paths (replace with actual paths)\n",
    "file_paths = [\"data_9_to_11.json\", \"data_12_to_14.json\", \"data_15_to_17.json\", \"data_18_to_20.json\", \"data_21_to_23.json\"]\n",
    "\n",
    "# Load data from each file\n",
    "dataframes = []\n",
    "for file_path in file_paths:\n",
    "    dataframes.append(load_json_file(file_path))\n",
    "\n",
    "# Combine the data from all dataframes\n",
    "all_data = pd.concat(dataframes, ignore_index=True)\n",
    "\n",
    "\n",
    "# Select relevant columns (adjust these column names to match your data)\n",
    "columns_of_interest = ['YEAR', 'FACILITY_NAME', 'TOTAL_RELEASES', 'RECYCLING', 'TREATMENT', 'ENERGY_RECOVERY']\n",
    "\n",
    "# Filter and clean the data\n",
    "all_data = all_data[columns_of_interest]\n",
    "\n",
    "# Aggregate data by year, calculating the total releases and other metrics\n",
    "heatmap_data = all_data.groupby('YEAR').sum().reset_index()\n",
    "\n",
    "# Set 'YEAR' as the index for heatmap visualization\n",
    "heatmap_data.set_index('YEAR', inplace=True)\n",
    "\n",
    "# Plotting the heatmap\n",
    "plt.figure(figsize=(10, 8))\n",
    "sns.heatmap(heatmap_data, annot=True, cmap='YlGnBu', fmt=\".1f\")\n",
    "plt.title('Toxics Release Inventory by Year')\n",
    "plt.xlabel('Waste Management Type')\n",
    "plt.ylabel('Year')\n",
    "plt.show()\n"
   ]
  },
  {
   "cell_type": "code",
   "execution_count": null,
   "id": "3ff0cf37-584d-4446-95f9-85b77c23abe7",
   "metadata": {},
   "outputs": [],
   "source": []
  }
 ],
 "metadata": {
  "kernelspec": {
   "display_name": "Python 3 (ipykernel)",
   "language": "python",
   "name": "python3"
  },
  "language_info": {
   "codemirror_mode": {
    "name": "ipython",
    "version": 3
   },
   "file_extension": ".py",
   "mimetype": "text/x-python",
   "name": "python",
   "nbconvert_exporter": "python",
   "pygments_lexer": "ipython3",
   "version": "3.12.4"
  }
 },
 "nbformat": 4,
 "nbformat_minor": 5
}
