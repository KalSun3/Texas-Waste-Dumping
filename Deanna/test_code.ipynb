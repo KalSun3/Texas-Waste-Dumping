{
 "cells": [
  {
   "cell_type": "code",
   "execution_count": null,
   "id": "07c97c67-97a8-453d-b05e-6fb0e2eb9415",
   "metadata": {},
   "outputs": [],
   "source": [
    "import json\n",
    "import pandas as pd\n",
    "import folium\n",
    "import os\n",
    "import seaborn as sns\n",
    "import matplotlib.pyplot as plt"
   ]
  },
  {
   "cell_type": "markdown",
   "id": "23b62959",
   "metadata": {},
   "source": [
    "files = ['data_9_t0_11', 'data_12_to_14', 'data_15_to_17', 'data_18_to_20', 'data_21_to_23']\n",
    "\n",
    "all_files = []\n",
    "\n",
    "def load_json(file_path): \n",
    "    with open "
   ]
  }
 ],
 "metadata": {
  "kernelspec": {
   "display_name": "Python 3 (ipykernel)",
   "language": "python",
   "name": "python3"
  },
  "language_info": {
   "codemirror_mode": {
    "name": "ipython",
    "version": 3
   },
   "file_extension": ".py",
   "mimetype": "text/x-python",
   "name": "python",
   "nbconvert_exporter": "python",
   "pygments_lexer": "ipython3",
   "version": "3.12.4"
  }
 },
 "nbformat": 4,
 "nbformat_minor": 5
}
