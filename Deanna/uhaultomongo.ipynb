{
 "cells": [
  {
   "cell_type": "code",
   "execution_count": 1,
   "id": "93070613-e5af-4c59-ba4e-9e0bba4fb742",
   "metadata": {},
   "outputs": [
    {
     "ename": "SyntaxError",
     "evalue": "invalid decimal literal (2345499703.py, line 3)",
     "output_type": "error",
     "traceback": [
      "\u001b[1;36m  Cell \u001b[1;32mIn[1], line 3\u001b[1;36m\u001b[0m\n\u001b[1;33m    mongoimport --type csv -d chemical_dumping -c dumping_list_23 --headerline --drop 2023_tx_cleaned.csv\u001b[0m\n\u001b[1;37m                                                                                          ^\u001b[0m\n\u001b[1;31mSyntaxError\u001b[0m\u001b[1;31m:\u001b[0m invalid decimal literal\n"
     ]
    }
   ],
   "source": [
    "#mongo import statemen\n",
    "\n",
    "mongoimport --type csv -d chemical_dumping -c dumping_list_23 --headerline --drop 2023_tx_cleaned.csv \n",
    "mongoimport --type csv -d chemical_dumping -c dumping_list_22 --headerline --drop 2022_tx_cleaned.csv \n",
    "mongoimport --type csv -d chemical_dumping -c dumping_list_21 --headerline --drop 2021_tx_cleaned.csv \n",
    "mongoimport --type csv -d chemical_dumping -c dumping_list_20 --headerline --drop 2020_tx_cleaned.csv \n",
    "mongoimport --type csv -d chemical_dumping -c dumping_list_19 --headerline --drop 2019_tx_cleaned.csv \n",
    "mongoimport --type csv -d chemical_dumping -c dumping_list_18 --headerline --drop 2018_tx_cleaned.csv \n",
    "mongoimport --type csv -d chemical_dumping -c dumping_list_17 --headerline --drop 2017_tx_cleaned.csv \n",
    "mongoimport --type csv -d chemical_dumping -c dumping_list_16 --headerline --drop 2016_tx_cleaned.csv\n",
    "mongoimport --type csv -d chemical_dumping -c dumping_list_15 --headerline --drop 2015_tx_cleaned.csv \n",
    "mongoimport --type csv -d chemical_dumping -c dumping_list_14 --headerline --drop 2014_tx_cleaned.csv \n",
    "mongoimport --type csv -d chemical_dumping -c dumping_list_13 --headerline --drop 2013_tx_cleaned.csv \n",
    "mongoimport --type csv -d chemical_dumping -c dumping_list_12 --headerline --drop 2012_tx_cleaned.csv \n",
    "mongoimport --type csv -d chemical_dumping -c dumping_list_11 --headerline --drop 2011_tx_cleaned.csv \n",
    "mongoimport --type csv -d chemical_dumping -c dumping_list_10 --headerline --drop 2010_tx_cleaned.csv \n",
    "mongoimport --type csv -d chemical_dumping -c dumping_list_9 --headerline --drop 2009_tx_cleaned.csv \n",
    "mongoimport --type csv -d chemical_dumping -c dumping_list_8 --headerline --drop 2008_tx_cleaned.csv \n",
    "mongoimport --type csv -d chemical_dumping -c dumping_list_7 --headerline --drop 2007_tx_cleaned.csv \n"
   ]
  },
  {
   "cell_type": "code",
   "execution_count": 1,
   "id": "5918550d-89ca-4b79-acb4-40eae651868b",
   "metadata": {},
   "outputs": [],
   "source": [
    "from pymongo import MongoClient"
   ]
  },
  {
   "cell_type": "code",
   "execution_count": 2,
   "id": "aef990fa-0325-4548-8d75-ed18dd261a44",
   "metadata": {},
   "outputs": [],
   "source": [
    "mongo = MongoClient(port=27017)"
   ]
  },
  {
   "cell_type": "code",
   "execution_count": 3,
   "id": "f7686511-fca1-4a04-adee-18cfc47558b0",
   "metadata": {},
   "outputs": [
    {
     "name": "stdout",
     "output_type": "stream",
     "text": [
      "['admin', 'autosaurus', 'chemical_dumping', 'classDB', 'config', 'epa', 'fruit_db', 'gardenDB', 'local', 'met', 'petsitly_marketing', 'travel_db', 'uk_food']\n"
     ]
    }
   ],
   "source": [
    "print(mongo.list_database_names())"
   ]
  },
  {
   "cell_type": "code",
   "execution_count": 4,
   "id": "42f7a9c1-fbb0-4838-88f5-dd964977222e",
   "metadata": {},
   "outputs": [],
   "source": [
    "db = mongo['chemical_dumping']"
   ]
  },
  {
   "cell_type": "code",
   "execution_count": 5,
   "id": "b22b90d1-5d2c-499d-a9eb-735870e8a052",
   "metadata": {},
   "outputs": [
    {
     "name": "stdout",
     "output_type": "stream",
     "text": [
      "['dumping_list_8', 'dumping_list_19', 'dumping_list_9', 'dumping_list_21', 'dumping_list_16', 'dumping_list_14', 'dumping_list_13', 'dumping_list_12', 'dumping_list_11', 'dumping_list_7', 'dumping_list_23', 'dumping_list_22', 'dumping_list_10', 'dumping_list_20', 'dumping_list_18', 'dumping_list_17', 'dumping_list_15']\n"
     ]
    }
   ],
   "source": [
    "print(db.list_collection_names())"
   ]
  },
  {
   "cell_type": "code",
   "execution_count": 6,
   "id": "7113fad0-8776-4bcf-965e-9e8cd7fde526",
   "metadata": {},
   "outputs": [
    {
     "name": "stdout",
     "output_type": "stream",
     "text": [
      "Merged 8271 documents from dumping_list_7\n",
      "Merged 8242 documents from dumping_list_8\n",
      "Merged 8037 documents from dumping_list_9\n",
      "Merged 8272 documents from dumping_list_10\n",
      "Merged 8513 documents from dumping_list_11\n",
      "Merged 8772 documents from dumping_list_12\n",
      "Merged 8924 documents from dumping_list_13\n",
      "Merged 9016 documents from dumping_list_14\n",
      "Merged 8945 documents from dumping_list_15\n",
      "Merged 8825 documents from dumping_list_16\n",
      "Merged 8766 documents from dumping_list_17\n",
      "Merged 8792 documents from dumping_list_18\n",
      "Merged 8791 documents from dumping_list_19\n",
      "Merged 8531 documents from dumping_list_20\n",
      "Merged 8496 documents from dumping_list_21\n",
      "Merged 9578 documents from dumping_list_22\n",
      "Merged 9506 documents from dumping_list_23\n",
      "All collections have been combined into 'all_data_combined'.\n"
     ]
    }
   ],
   "source": [
    "merging_all_collections = [\n",
    "    \"dumping_list_7\", \"dumping_list_8\", \"dumping_list_9\", \"dumping_list_10\",\n",
    "    \"dumping_list_11\", \"dumping_list_12\", \"dumping_list_13\", \"dumping_list_14\",\n",
    "    \"dumping_list_15\", \"dumping_list_16\", \"dumping_list_17\", \"dumping_list_18\",\n",
    "    \"dumping_list_19\", \"dumping_list_20\", \"dumping_list_21\", \"dumping_list_22\",\n",
    "    \"dumping_list_23\"\n",
    "]\n",
    "\n",
    "all_collections = db[\"all_data_combined\"]\n",
    "\n",
    "for collection in merging_all_collections:  \n",
    "    dump_collections = db[collection] \n",
    "    docs = dump_collections.find()\n",
    "    all_collections.insert_many(docs) \n",
    "    print(f\"Merged {dump_collections.count_documents({})} documents from {collection}\")\n",
    "\n",
    "print(\"All collections have been combined into 'all_data_combined'.\")"
   ]
  },
  {
   "cell_type": "code",
   "execution_count": null,
   "id": "806b78a1-d38b-4b66-aa74-a5a80ed5e7d5",
   "metadata": {},
   "outputs": [],
   "source": []
  },
  {
   "cell_type": "code",
   "execution_count": null,
   "id": "d07a5319-577f-41e0-b4e3-dc464521db0b",
   "metadata": {},
   "outputs": [],
   "source": []
  }
 ],
 "metadata": {
  "kernelspec": {
   "display_name": "Python 3 (ipykernel)",
   "language": "python",
   "name": "python3"
  },
  "language_info": {
   "codemirror_mode": {
    "name": "ipython",
    "version": 3
   },
   "file_extension": ".py",
   "mimetype": "text/x-python",
   "name": "python",
   "nbconvert_exporter": "python",
   "pygments_lexer": "ipython3",
   "version": "3.12.4"
  }
 },
 "nbformat": 4,
 "nbformat_minor": 5
}
